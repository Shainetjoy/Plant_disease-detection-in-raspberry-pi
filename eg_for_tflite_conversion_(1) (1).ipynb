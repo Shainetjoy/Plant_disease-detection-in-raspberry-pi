{
  "nbformat": 4,
  "nbformat_minor": 0,
  "metadata": {
    "colab": {
      "provenance": [],
      "machine_shape": "hm"
    },
    "kernelspec": {
      "name": "python3",
      "display_name": "Python 3"
    },
    "language_info": {
      "name": "python"
    },
    "accelerator": "GPU"
  },
  "cells": [
    {
      "cell_type": "code",
      "execution_count": null,
      "metadata": {
        "id": "EL3l-eTXZIm5"
      },
      "outputs": [],
      "source": [
        "# Importing necessary libraries\n",
        "\n",
        "# Building deep learning models\n",
        "import tensorflow as tf \n",
        "from tensorflow import keras \n",
        "# For accessing pre-trained models\n",
        "import tensorflow_hub as hub \n",
        "# For separating train and test sets\n",
        "from sklearn.model_selection import train_test_split\n",
        "\n",
        "# For visualizations\n",
        "import matplotlib.pyplot as plt\n",
        "import matplotlib.pyplot as plt\n",
        "import matplotlib.image as img\n",
        "import cv2\n",
        "from PIL import Image\n",
        "\n",
        "import os\n",
        "import numpy as np\n",
        "import pathlib"
      ]
    },
    {
      "cell_type": "code",
      "source": [
        "new_model = tf.keras.models.load_model('/content/drive/MyDrive/saved_model/TF')\n"
      ],
      "metadata": {
        "id": "zLVflXUKZJoO"
      },
      "execution_count": null,
      "outputs": []
    },
    {
      "cell_type": "code",
      "source": [
        "new_model.summary()"
      ],
      "metadata": {
        "colab": {
          "base_uri": "https://localhost:8080/"
        },
        "id": "fqqeEPEKfFCI",
        "outputId": "2f260b42-c2ee-435f-cb3a-77906a496bd2"
      },
      "execution_count": null,
      "outputs": [
        {
          "output_type": "stream",
          "name": "stdout",
          "text": [
            "Model: \"sequential\"\n",
            "_________________________________________________________________\n",
            " Layer (type)                Output Shape              Param #   \n",
            "=================================================================\n",
            " keras_layer (KerasLayer)    (None, 1280)              2257984   \n",
            "                                                                 \n",
            " dense (Dense)               (None, 3)                 3843      \n",
            "                                                                 \n",
            "=================================================================\n",
            "Total params: 2,261,827\n",
            "Trainable params: 3,843\n",
            "Non-trainable params: 2,257,984\n",
            "_________________________________________________________________\n"
          ]
        }
      ]
    },
    {
      "cell_type": "code",
      "source": [
        "import cv2\n",
        "img = cv2.imread(\"/content/00a20f6f-e8bd-4453-9e25-36ea70feb626___RS_GLSp 4655.JPG\")\n",
        "\n",
        "resized_img = cv2.resize(img, (224, 224)) # Resizing the images to be able to pass on MobileNetv2 model\n",
        "resized_img = resized_img/255\n",
        "print(resized_img.shape)\n",
        "resized_img = resized_img.reshape(1,224,224,3)\n",
        "print(resized_img.shape)\n",
        "result_batch = new_model.predict(resized_img)\n",
        "print(result_batch)\n",
        "import numpy as np \n",
        "print(np.argmax(result_batch))\n",
        "if np.max(result_batch) > 0:\n",
        "  if np.argmax(result_batch) == 0:\n",
        "    # This comes on the first model\n",
        "    # corn_model.predict(resized_image)\n",
        "    print(\"gray leaf\")\n",
        "  elif np.argmax(result_batch) == 1:\n",
        "    # This comes on the first model\n",
        "    # tomato_model.predict(resized_image)\n",
        "    print(\"leaf blight\")\n",
        "  elif np.argmax(result_batch) == 2:\n",
        "    # This comes on the first model\n",
        "    # potato_model.predict(resized_image)\n",
        "    print(\"healthy plant\")\n",
        "else:\n",
        "  print(\"not found\")  "
      ],
      "metadata": {
        "colab": {
          "base_uri": "https://localhost:8080/",
          "height": 270
        },
        "id": "LFqsHFeifPHM",
        "outputId": "1df02e8a-bf29-43c2-b107-71b2c22cab32"
      },
      "execution_count": null,
      "outputs": [
        {
          "output_type": "stream",
          "name": "stdout",
          "text": [
            "(224, 224, 3)\n",
            "(1, 224, 224, 3)\n"
          ]
        },
        {
          "output_type": "error",
          "ename": "NameError",
          "evalue": "ignored",
          "traceback": [
            "\u001b[0;31m---------------------------------------------------------------------------\u001b[0m",
            "\u001b[0;31mNameError\u001b[0m                                 Traceback (most recent call last)",
            "\u001b[0;32m<ipython-input-17-4d4ae696809a>\u001b[0m in \u001b[0;36m<module>\u001b[0;34m()\u001b[0m\n\u001b[1;32m      7\u001b[0m \u001b[0mresized_img\u001b[0m \u001b[0;34m=\u001b[0m \u001b[0mresized_img\u001b[0m\u001b[0;34m.\u001b[0m\u001b[0mreshape\u001b[0m\u001b[0;34m(\u001b[0m\u001b[0;36m1\u001b[0m\u001b[0;34m,\u001b[0m\u001b[0;36m224\u001b[0m\u001b[0;34m,\u001b[0m\u001b[0;36m224\u001b[0m\u001b[0;34m,\u001b[0m\u001b[0;36m3\u001b[0m\u001b[0;34m)\u001b[0m\u001b[0;34m\u001b[0m\u001b[0;34m\u001b[0m\u001b[0m\n\u001b[1;32m      8\u001b[0m \u001b[0mprint\u001b[0m\u001b[0;34m(\u001b[0m\u001b[0mresized_img\u001b[0m\u001b[0;34m.\u001b[0m\u001b[0mshape\u001b[0m\u001b[0;34m)\u001b[0m\u001b[0;34m\u001b[0m\u001b[0;34m\u001b[0m\u001b[0m\n\u001b[0;32m----> 9\u001b[0;31m \u001b[0mresult_batch\u001b[0m \u001b[0;34m=\u001b[0m \u001b[0mnew_model\u001b[0m\u001b[0;34m.\u001b[0m\u001b[0mpredict\u001b[0m\u001b[0;34m(\u001b[0m\u001b[0mresized_img\u001b[0m\u001b[0;34m)\u001b[0m\u001b[0;34m\u001b[0m\u001b[0;34m\u001b[0m\u001b[0m\n\u001b[0m\u001b[1;32m     10\u001b[0m \u001b[0mprint\u001b[0m\u001b[0;34m(\u001b[0m\u001b[0mresult_batch\u001b[0m\u001b[0;34m)\u001b[0m\u001b[0;34m\u001b[0m\u001b[0;34m\u001b[0m\u001b[0m\n\u001b[1;32m     11\u001b[0m \u001b[0;32mimport\u001b[0m \u001b[0mnumpy\u001b[0m \u001b[0;32mas\u001b[0m \u001b[0mnp\u001b[0m\u001b[0;34m\u001b[0m\u001b[0;34m\u001b[0m\u001b[0m\n",
            "\u001b[0;31mNameError\u001b[0m: name 'new_model' is not defined"
          ]
        }
      ]
    },
    {
      "cell_type": "code",
      "source": [
        "# Converting a SavedModel to a TensorFlow Lite model.\n",
        "import tensorflow as tf\n",
        "converter = tf.lite.TFLiteConverter.from_saved_model('/content/drive/MyDrive/saved_model/TF')\n",
        "tflite_model = converter.convert()"
      ],
      "metadata": {
        "colab": {
          "base_uri": "https://localhost:8080/"
        },
        "id": "_Xp52EsMmb2L",
        "outputId": "c9c77ba9-ea00-4836-e387-5ff6bd6b0f56"
      },
      "execution_count": null,
      "outputs": [
        {
          "output_type": "stream",
          "name": "stderr",
          "text": [
            "WARNING:absl:Buffer deduplication procedure will be skipped when flatbuffer library is not properly loaded\n"
          ]
        }
      ]
    },
    {
      "cell_type": "code",
      "source": [
        "#if you want to save the TF Lite model use below steps or else skip\n",
        "import pathlib\n",
        "tflite_model_files = pathlib.Path('/content/drive/MyDrive/crop_model/Crop_disease_detection.tflite')\n",
        "tflite_model_files.write_bytes(tflite_model)\n"
      ],
      "metadata": {
        "colab": {
          "base_uri": "https://localhost:8080/"
        },
        "id": "YWyaZ26Jmrj4",
        "outputId": "4bbf8f52-0563-4b1f-daf0-b0c9e0391142"
      },
      "execution_count": null,
      "outputs": [
        {
          "output_type": "execute_result",
          "data": {
            "text/plain": [
              "8882436"
            ]
          },
          "metadata": {},
          "execution_count": 7
        }
      ]
    },
    {
      "cell_type": "code",
      "source": [
        "# Load TFLite model using interpreter and allocate tensors.\n",
        "interpreter = tf.lite.Interpreter(model_content=tflite_model)\n",
        "interpreter.allocate_tensors()"
      ],
      "metadata": {
        "id": "F9OJaZ-vnSeU"
      },
      "execution_count": null,
      "outputs": []
    },
    {
      "cell_type": "code",
      "source": [],
      "metadata": {
        "id": "MX44xUFQDtp_"
      },
      "execution_count": null,
      "outputs": []
    },
    {
      "cell_type": "code",
      "source": [
        "import cv2\n",
        "img = cv2.imread(\"/content/00a20f6f-e8bd-4453-9e25-36ea70feb626___RS_GLSp 4655.JPG\")\n",
        "\n",
        "resized_img = cv2.resize(img, (224, 224)) # Resizing the images to be able to pass on MobileNetv2 model\n",
        "resized_img = resized_img/255\n",
        "print(resized_img.shape)\n",
        "resized_img = resized_img.reshape(1,224,224,3)\n",
        "print(resized_img.shape)"
      ],
      "metadata": {
        "colab": {
          "base_uri": "https://localhost:8080/"
        },
        "id": "q--fbr4rp0BJ",
        "outputId": "bcebed9d-15a0-4e40-e936-6dca043f1fed"
      },
      "execution_count": null,
      "outputs": [
        {
          "output_type": "stream",
          "name": "stdout",
          "text": [
            "(224, 224, 3)\n",
            "(1, 224, 224, 3)\n"
          ]
        }
      ]
    },
    {
      "cell_type": "code",
      "source": [
        "\n",
        "# Get input and output tensors.\n",
        "input_details = interpreter.get_input_details()\n",
        "output_details = interpreter.get_output_details()\n",
        "\n",
        "\n",
        "\n"
      ],
      "metadata": {
        "id": "yHmPuMiHoRYM"
      },
      "execution_count": null,
      "outputs": []
    },
    {
      "cell_type": "code",
      "source": [
        "# Test the model on random input data.\n",
        "input_shape = input_details[0]['shape']\n",
        "input_data = resized_img\n",
        "input_data = np.array(input_data, dtype=np.float32)\n",
        "interpreter.set_tensor(input_details[0]['index'],input_data)\n",
        "\n",
        "interpreter.invoke()\n",
        "\n"
      ],
      "metadata": {
        "id": "jbHhbPjso9Ov"
      },
      "execution_count": null,
      "outputs": []
    },
    {
      "cell_type": "code",
      "source": [
        "# The function `get_tensor()` returns a copy of the tensor data.\n",
        "# Use `tensor()` in order to get a pointer to the tensor.\n",
        "output_data = interpreter.get_tensor(output_details[0]['index'])\n",
        "print(output_data)"
      ],
      "metadata": {
        "colab": {
          "base_uri": "https://localhost:8080/"
        },
        "id": "eyzGOX61o_m0",
        "outputId": "9f1aedae-e7be-4aa2-ee3a-fef1af0faa06"
      },
      "execution_count": null,
      "outputs": [
        {
          "output_type": "stream",
          "name": "stdout",
          "text": [
            "[[ 4.2245274  4.79416   -8.420373 ]]\n"
          ]
        }
      ]
    }
  ]
}